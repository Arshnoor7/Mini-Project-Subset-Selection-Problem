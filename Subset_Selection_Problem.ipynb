{
  "nbformat": 4,
  "nbformat_minor": 0,
  "metadata": {
    "colab": {
      "provenance": [],
      "authorship_tag": "ABX9TyOJ1uMXyIf9QIXJMDVT1Tbd",
      "include_colab_link": true
    },
    "kernelspec": {
      "name": "python3",
      "display_name": "Python 3"
    },
    "language_info": {
      "name": "python"
    }
  },
  "cells": [
    {
      "cell_type": "markdown",
      "metadata": {
        "id": "view-in-github",
        "colab_type": "text"
      },
      "source": [
        "<a href=\"https://colab.research.google.com/github/Arshnoor7/Subset-Selection-Problem/blob/main/Subset_Selection_Problem.ipynb\" target=\"_parent\"><img src=\"https://colab.research.google.com/assets/colab-badge.svg\" alt=\"Open In Colab\"/></a>"
      ]
    },
    {
      "cell_type": "markdown",
      "source": [
        "\n",
        "##**Subset Selection Problem**\n",
        "\n",
        "####**1. Problem Statement:**\n",
        "Find all the subsets from a set of numbers whose sum is zero.\n",
        "\n",
        "**Constraint**: Subset size must be 5\n",
        "\n",
        "Set={-12, -3, -6, 7, 2, -2, 6, 3, 9, -7, -5, -8, 1, 11, -9, -4}\n"
      ],
      "metadata": {
        "id": "D0ekJdVdBTCj"
      }
    },
    {
      "cell_type": "code",
      "execution_count": 4,
      "metadata": {
        "colab": {
          "base_uri": "https://localhost:8080/"
        },
        "id": "2YJ_zWvRA13_",
        "outputId": "7b334d50-e278-4462-eca4-b350fa9ea357"
      },
      "outputs": [
        {
          "output_type": "stream",
          "name": "stdout",
          "text": [
            "[7, -12, 11, -8, 2]\n",
            "[3, 6, -12, 2, 1]\n",
            "[-7, -4, 2, 3, 6]\n",
            "[-9, 3, 7, 6, -7]\n",
            "[-2, -12, -4, 11, 7]\n",
            "[1, -7, 6, 9, -9]\n",
            "[6, 1, 3, -12, 2]\n",
            "[1, 3, 6, -12, 2]\n",
            "[3, 6, -5, 2, -6]\n",
            "[11, -12, 7, -9, 3]\n",
            "[-9, -3, -2, 11, 3]\n",
            "[11, 6, -8, -12, 3]\n",
            "[11, -9, 7, -5, -4]\n",
            "[7, -9, 9, -5, -2]\n",
            "[3, -8, -5, 9, 1]\n",
            "[6, -12, 11, -6, 1]\n",
            "[-7, -2, 11, -8, 6]\n",
            "[3, -12, 7, -7, 9]\n",
            "[-9, -4, -7, 9, 11]\n",
            "[-2, -9, 9, -5, 7]\n",
            "[7, -5, -4, 9, -7]\n",
            "[11, -3, 7, -6, -9]\n",
            "[11, 1, -9, -5, 2]\n",
            "[-3, -2, 6, 7, -8]\n",
            "[-8, 7, -6, 1, 6]\n",
            "[-5, -3, 11, -12, 9]\n",
            "[7, -2, -5, -3, 3]\n",
            "[11, -3, -4, 2, -6]\n",
            "[-3, 7, 9, -5, -8]\n",
            "[2, -12, -5, 6, 9]\n",
            "[11, -8, 1, 3, -7]\n",
            "[-12, 7, -7, 3, 9]\n",
            "[-4, -6, 7, 2, 1]\n",
            "[-2, 7, -5, -3, 3]\n",
            "[7, 2, -4, -8, 3]\n",
            "[-2, 6, 1, -8, 3]\n",
            "[3, -12, 11, 6, -8]\n",
            "[7, 9, -5, -12, 1]\n",
            "[-4, 1, 11, -6, -2]\n",
            "[-12, 7, 6, -2, 1]\n",
            "[9, -12, 2, -2, 3]\n",
            "Num of all subsets whose sum is zero :  41\n"
          ]
        },
        {
          "output_type": "stream",
          "name": "stderr",
          "text": [
            "<ipython-input-4-24006d40bdcb>:6: DeprecationWarning: Sampling from a set deprecated\n",
            "since Python 3.9 and will be removed in a subsequent version.\n",
            "  random_set=r.sample(Set,5)\n"
          ]
        }
      ],
      "source": [
        "\n",
        "import random as r\n",
        "Set=set({-12, -3, -6, 7, 2, -2, 6, 3, 9, -7, -5, -8, 1, 11, -9, -4})\n",
        "Sum_Zero=set()\n",
        "\n",
        "for i in range(1,1501):\n",
        "  random_set=r.sample(Set,5)\n",
        "  if sum(random_set) == 0:\n",
        "    Sum_Zero.add(tuple(random_set))\n",
        "    print(random_set)\n",
        "\n",
        "print(\"Num of all subsets whose sum is zero : \" , len(Sum_Zero))\n"
      ]
    },
    {
      "cell_type": "markdown",
      "source": [
        "### **2. Problem Statement:**\n",
        "Find all the subsets from a set of numbers whose sum is zero.\n",
        "\n",
        "**Constraint**: Subset size must be 3 to 6 only\n",
        "\n",
        "Set={-12, -3, -6, 7, 2, -2, 6, 3, 9, -7, -5, -8, 1, 11, -9, -4}"
      ],
      "metadata": {
        "id": "-IFaISBmFhjK"
      }
    },
    {
      "cell_type": "code",
      "source": [
        "\n",
        "import random as r\n",
        "Set=set({-12, -3, -6, 7, 2, -2, 6, 3, 9, -7, -5, -8, 1, 11, -9, -4})\n",
        "Sum_Zero=set()\n",
        "\n",
        "for i in range(1,5001):\n",
        "  random_set=r.sample(Set,r.randint(3,6))\n",
        "  if sum(random_set) == 0:\n",
        "    Sum_Zero.add(tuple(random_set))\n",
        "    print(random_set)\n",
        "\n",
        "print(\"Num of all subsets whose sum is zero : \" , len(Sum_Zero))\n"
      ],
      "metadata": {
        "colab": {
          "base_uri": "https://localhost:8080/"
        },
        "id": "nL80mbUQCZ7q",
        "outputId": "63308881-e405-4f70-cacf-370c21078cfb"
      },
      "execution_count": 3,
      "outputs": [
        {
          "output_type": "stream",
          "name": "stdout",
          "text": [
            "[9, -7, -4, 11, -9]\n",
            "[-2, -7, -6, 9, 6]\n",
            "[11, -5, -8, 2]\n",
            "[3, -3, -9, 6, 11, -8]\n",
            "[9, -8, 3, -4]\n",
            "[6, 1, -7]\n",
            "[-6, 9, 6, -9]\n",
            "[9, -4, -5]\n",
            "[1, 6, -7]\n",
            "[2, -3, 11, -4, -6]\n",
            "[6, 9, -8, -6, -3, 2]\n",
            "[9, 11, -9, -3, -8]\n",
            "[6, 3, 2, -2, -9]\n",
            "[3, 1, -4]\n",
            "[-4, 1, -3, 6]\n",
            "[-5, 7, 1, -4, -8, 9]\n",
            "[7, -2, 6, -6, -5]\n",
            "[-9, 11, 2, 3, -7]\n",
            "[-12, 3, 9]\n",
            "[-2, 2, 11, -8, 1, -4]\n",
            "[-8, -12, 11, 9]\n",
            "[-5, -2, 7]\n",
            "[-12, -6, 7, 2, 9]\n",
            "[7, -7, 9, -5, -4]\n",
            "[2, -9, -12, 9, 3, 7]\n",
            "[9, -3, -6]\n",
            "[-12, -4, 9, 7]\n",
            "[2, 1, -3]\n",
            "[1, -9, -5, 11, 2]\n",
            "[9, -2, -7]\n",
            "[-5, -4, 9]\n",
            "[3, 11, -5, -9]\n",
            "[2, 3, 6, 1, -12]\n",
            "[9, 11, -3, -9, -8]\n",
            "[-6, -3, 3, 6]\n",
            "[-8, -3, 9, 2]\n",
            "[-6, 1, -12, 2, 9, 6]\n",
            "[1, -9, -3, 11]\n",
            "[11, -5, -4, -6, 1, 3]\n",
            "[1, -6, -4, 9]\n",
            "[-2, -12, 6, 1, 7]\n",
            "[-3, -7, -2, -5, 6, 11]\n",
            "[-12, 3, 9]\n",
            "[-2, 2, -6, 6]\n",
            "[-5, 11, 6, 3, -6, -9]\n",
            "[3, 1, -4]\n",
            "[-3, -4, 7]\n",
            "[-9, 6, 3, -2, 7, -5]\n",
            "[1, -5, -6, 7, 3]\n",
            "[-5, 7, 1, -3]\n",
            "[-6, 6, -4, 11, -8, 1]\n",
            "[-7, -12, 11, 1, 7]\n",
            "[-6, 11, -5]\n",
            "[-6, -7, 7, 6, -3, 3]\n",
            "[-3, -9, 11, 1]\n",
            "[9, 6, -7, -8]\n",
            "[-12, -2, 11, 3]\n",
            "[-5, -3, 9, 1, 7, -9]\n",
            "[-4, 2, 3, 11, -12]\n",
            "[9, -4, -5]\n",
            "[2, -8, -5, 11]\n",
            "[-9, -6, 6, -3, 11, 1]\n",
            "[6, 7, 2, -7, -3, -5]\n",
            "[11, -9, -2]\n",
            "[-7, 11, -4]\n",
            "[9, -2, -7]\n",
            "[6, 7, -3, -12, -7, 9]\n",
            "[6, 9, -8, 1, -3, -5]\n",
            "[-8, 2, 6]\n",
            "[-12, 9, -5, 2, 6]\n",
            "[2, 7, -12, 11, -8]\n",
            "[9, 1, -4, -6]\n",
            "[11, -6, -7, 2]\n",
            "[-9, 11, -2]\n",
            "[3, 9, -8, -3, 11, -12]\n",
            "[-8, 2, 6]\n",
            "[-12, 9, 3]\n",
            "[7, 6, -7, -6]\n",
            "[-6, 9, -8, -3, 7, 1]\n",
            "[-8, -6, 3, 6, 9, -4]\n",
            "[9, -3, 2, 1, -4, -5]\n",
            "[-2, 7, -5]\n",
            "[-3, -7, 7, 3]\n",
            "[-3, -2, 2, 7, -4]\n",
            "[6, 3, -9]\n",
            "[7, -9, 2]\n",
            "[-8, 11, -6, 6, -3]\n",
            "[9, 2, -8, -3]\n",
            "[-3, -8, -4, 11, 3, 1]\n",
            "[-4, 6, -5, 2, 1]\n",
            "[-2, 3, 11, -7, -5]\n",
            "[-6, 9, 1, -4]\n",
            "[-3, 2, 6, -8, 3]\n",
            "[-9, 6, 3]\n",
            "[-8, -3, 11]\n",
            "[6, -2, -4]\n",
            "[9, -7, -2]\n",
            "[9, -12, 3, -4, -7, 11]\n",
            "[9, -12, 3]\n",
            "[2, -4, -8, -2, 9, 3]\n",
            "[-12, -5, 6, 11]\n",
            "[-8, -2, 1, -5, 11, 3]\n",
            "[6, 3, -2, -7]\n",
            "[-5, -7, -3, 3, 11, 1]\n",
            "[7, 2, -4, -2, -3]\n",
            "[-4, 3, 6, 1, -6]\n",
            "[-9, 9, 11, -6, -3, -2]\n",
            "[-7, 2, 9, -4]\n",
            "[1, 2, -5, 11, -9]\n",
            "[-4, 1, 3]\n",
            "[1, -12, 2, 9]\n",
            "[-9, 1, 11, -12, 9]\n",
            "[-8, 2, 6]\n",
            "[-5, 1, 3, 9, -8]\n",
            "[9, -4, 2, -7]\n",
            "[-4, -6, 6, -5, -2, 11]\n",
            "[1, -3, -5, 11, -4]\n",
            "[-9, -2, 9, 2]\n",
            "[3, 2, -2, -3]\n",
            "[-5, -3, -2, 1, 9]\n",
            "[-4, 1, 6, -12, 2, 7]\n",
            "Num of all subsets whose sum is zero :  115\n"
          ]
        },
        {
          "output_type": "stream",
          "name": "stderr",
          "text": [
            "<ipython-input-3-08cbb50d79a9>:6: DeprecationWarning: Sampling from a set deprecated\n",
            "since Python 3.9 and will be removed in a subsequent version.\n",
            "  random_set=r.sample(Set,r.randint(3,6))\n"
          ]
        }
      ]
    }
  ]
}